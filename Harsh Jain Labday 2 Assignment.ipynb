{
 "cells": [
  {
   "cell_type": "code",
   "execution_count": 1,
   "id": "4fd18a6e-50d2-4a1f-a206-51df80946ce0",
   "metadata": {},
   "outputs": [
    {
     "name": "stdout",
     "output_type": "stream",
     "text": [
      "xxxxx\n"
     ]
    }
   ],
   "source": [
    "def generate_n_chars(n, c):\n",
    "    return ''.join(c for _ in range(n))\n",
    "\n",
    "\n",
    "print(generate_n_chars(5, 'x'))\n"
   ]
  },
  {
   "cell_type": "code",
   "execution_count": 2,
   "id": "709059eb-3096-4eae-b363-df4ac9f5b5de",
   "metadata": {},
   "outputs": [
    {
     "name": "stdout",
     "output_type": "stream",
     "text": [
      "40\n"
     ]
    }
   ],
   "source": [
    "def max_in_list(numbers):\n",
    "    max_value = numbers[0]\n",
    "    for number in numbers:\n",
    "        if number > max_value:\n",
    "            max_value = number\n",
    "    return max_value\n",
    "\n",
    "\n",
    "print(max_in_list([10, 20, 30, 40, 5]))\n"
   ]
  },
  {
   "cell_type": "code",
   "execution_count": 3,
   "id": "e3ed8089-690b-418c-ad9e-669dbfa8ccd1",
   "metadata": {},
   "outputs": [
    {
     "name": "stdout",
     "output_type": "stream",
     "text": [
      "[5, 5, 6, 11]\n"
     ]
    }
   ],
   "source": [
    "def words_to_lengths(words):\n",
    "    return [len(word) for word in words]\n",
    "\n",
    "\n",
    "print(words_to_lengths(['hello', 'world', 'python', 'programming']))\n"
   ]
  },
  {
   "cell_type": "code",
   "execution_count": 4,
   "id": "a3f18788-b3f5-4332-9a33-0e58baf82bff",
   "metadata": {},
   "outputs": [
    {
     "name": "stdout",
     "output_type": "stream",
     "text": [
      "11\n",
      "11\n"
     ]
    }
   ],
   "source": [
    "def find_longest_word(words):\n",
    "    return max(len(word) for word in words)\n",
    "\n",
    "\n",
    "print(find_longest_word(['hello', 'world', 'python', 'programming']))\n",
    "\n",
    "\n",
    "find_longest_word_lambda = lambda words: max(len(word) for word in words)\n",
    "print(find_longest_word_lambda(['hello', 'world', 'python', 'programming']))\n"
   ]
  },
  {
   "cell_type": "code",
   "execution_count": 5,
   "id": "02648c87-cfe2-45c1-8759-93e76b642771",
   "metadata": {},
   "outputs": [
    {
     "name": "stdout",
     "output_type": "stream",
     "text": [
      "['python', 'programming']\n",
      "['python', 'programming']\n"
     ]
    }
   ],
   "source": [
    "def filter_long_words(words, n):\n",
    "    return [word for word in words if len(word) > n]\n",
    "\n",
    "\n",
    "print(filter_long_words(['hello', 'world', 'python', 'programming'], 5))\n",
    "\n",
    "\n",
    "filter_long_words_lambda = lambda words, n: [word for word in words if len(word) > n]\n",
    "print(filter_long_words_lambda(['hello', 'world', 'python', 'programming'], 5))\n"
   ]
  },
  {
   "cell_type": "code",
   "execution_count": 6,
   "id": "1e57d3bc-1fa4-40cf-9275-570d3fc37276",
   "metadata": {},
   "outputs": [
    {
     "name": "stdout",
     "output_type": "stream",
     "text": [
      "True\n"
     ]
    }
   ],
   "source": [
    "def is_palindrome(phrase):\n",
    "    cleaned = ''.join(char.lower() for char in phrase if char.isalnum())\n",
    "    return cleaned == cleaned[::-1]\n",
    "\n",
    "\n",
    "print(is_palindrome(\"Go hang a salami I'm a lasagna hog.\"))\n"
   ]
  },
  {
   "cell_type": "code",
   "execution_count": 7,
   "id": "b0b05662-73d1-4bfc-9cd7-3917d17f2352",
   "metadata": {},
   "outputs": [
    {
     "name": "stdout",
     "output_type": "stream",
     "text": [
      "True\n"
     ]
    }
   ],
   "source": [
    "import string\n",
    "\n",
    "def is_pangram(sentence):\n",
    "    alphabet = set(string.ascii_lowercase)\n",
    "    return alphabet <= set(char.lower() for char in sentence if char.isalpha())\n",
    "\n",
    "\n",
    "print(is_pangram(\"The quick brown fox jumps over the lazy dog\"))\n"
   ]
  },
  {
   "cell_type": "code",
   "execution_count": 8,
   "id": "fd904086-9ffb-452c-ad12-754c51851bc5",
   "metadata": {},
   "outputs": [
    {
     "name": "stdout",
     "output_type": "stream",
     "text": [
      "['god', 'jul', 'och', 'gott', 'nytt', 'år']\n"
     ]
    }
   ],
   "source": [
    "def translate(words):\n",
    "    lexicon = {\"merry\": \"god\", \"christmas\": \"jul\", \"and\": \"och\", \"happy\": \"gott\", \"new\": \"nytt\", \"year\": \"år\"}\n",
    "    return [lexicon[word] for word in words if word in lexicon]\n",
    "\n",
    "\n",
    "print(translate([\"merry\", \"christmas\", \"and\", \"happy\", \"new\", \"year\"]))\n"
   ]
  },
  {
   "cell_type": "code",
   "execution_count": 9,
   "id": "dc5be739-7a33-485b-83d8-51eea5258bc6",
   "metadata": {},
   "outputs": [
    {
     "name": "stdout",
     "output_type": "stream",
     "text": [
      "{'a': 7, 'b': 14, 'c': 3, 'd': 3}\n"
     ]
    }
   ],
   "source": [
    "def char_freq(string):\n",
    "    freq = {}\n",
    "    for char in string:\n",
    "        if char in freq:\n",
    "            freq[char] += 1\n",
    "        else:\n",
    "            freq[char] = 1\n",
    "    return freq\n",
    "\n",
    "# Test the function\n",
    "print(char_freq(\"abbabcbdbabdbdbabababcbcbab\"))\n"
   ]
  },
  {
   "cell_type": "code",
   "execution_count": null,
   "id": "542a15e4-e658-4f37-a4ba-be76bf29a8bd",
   "metadata": {},
   "outputs": [],
   "source": []
  }
 ],
 "metadata": {
  "kernelspec": {
   "display_name": "Python 3 (ipykernel)",
   "language": "python",
   "name": "python3"
  },
  "language_info": {
   "codemirror_mode": {
    "name": "ipython",
    "version": 3
   },
   "file_extension": ".py",
   "mimetype": "text/x-python",
   "name": "python",
   "nbconvert_exporter": "python",
   "pygments_lexer": "ipython3",
   "version": "3.12.3"
  }
 },
 "nbformat": 4,
 "nbformat_minor": 5
}
