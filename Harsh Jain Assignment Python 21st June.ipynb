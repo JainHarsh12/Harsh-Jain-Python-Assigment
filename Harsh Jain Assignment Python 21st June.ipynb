{
 "cells": [
  {
   "cell_type": "code",
   "execution_count": 1,
   "id": "b1de4352-176f-47b7-96ef-5b9f1e925cc8",
   "metadata": {},
   "outputs": [
    {
     "name": "stdin",
     "output_type": "stream",
     "text": [
      "Enter ()\n"
     ]
    },
    {
     "name": "stdout",
     "output_type": "stream",
     "text": [
      "valid.\n"
     ]
    }
   ],
   "source": [
    "s = input(\"Enter\")\n",
    "\n",
    "stack = []\n",
    "matching_parenthesis = {')': '(', '}': '{', ']': '['}\n",
    "is_valid = True\n",
    "\n",
    "for char in s:\n",
    "    if char in matching_parenthesis.values():\n",
    "        stack.append(char)\n",
    "    elif char in matching_parenthesis.keys():\n",
    "        if stack == [] or matching_parenthesis[char] != stack.pop():\n",
    "            is_valid = False\n",
    "            break\n",
    "\n",
    "if stack != []:\n",
    "    is_valid = False\n",
    "\n",
    "if is_valid:\n",
    "    print(\"valid.\")\n",
    "else:\n",
    "    print(\"invalid.\")"
   ]
  },
  {
   "cell_type": "code",
   "execution_count": 2,
   "id": "df78d1d3-bcd5-4b78-b74c-058b09cf1a33",
   "metadata": {},
   "outputs": [
    {
     "name": "stdin",
     "output_type": "stream",
     "text": [
      "Enter a string:  harsh jain\n"
     ]
    },
    {
     "name": "stdout",
     "output_type": "stream",
     "text": [
      "harsH jaiN\n"
     ]
    }
   ],
   "source": [
    "s = input(\"Enter a string: \")\n",
    "\n",
    "words = s.split()\n",
    "result = []\n",
    "\n",
    "for word in words:\n",
    "    if len(word) > 1:\n",
    "        new_word = word[:-1] + word[-1].upper()\n",
    "    else:\n",
    "        new_word = word.upper()\n",
    "    result.append(new_word)\n",
    "\n",
    "capitalized_string = ' '.join(result)\n",
    "print(capitalized_string)"
   ]
  },
  {
   "cell_type": "code",
   "execution_count": null,
   "id": "f8101671-348a-4d89-b89b-90b928ff85bb",
   "metadata": {},
   "outputs": [],
   "source": []
  }
 ],
 "metadata": {
  "kernelspec": {
   "display_name": "Python 3 (ipykernel)",
   "language": "python",
   "name": "python3"
  },
  "language_info": {
   "codemirror_mode": {
    "name": "ipython",
    "version": 3
   },
   "file_extension": ".py",
   "mimetype": "text/x-python",
   "name": "python",
   "nbconvert_exporter": "python",
   "pygments_lexer": "ipython3",
   "version": "3.12.3"
  }
 },
 "nbformat": 4,
 "nbformat_minor": 5
}
