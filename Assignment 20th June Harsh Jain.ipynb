{
 "cells": [
  {
   "cell_type": "code",
   "execution_count": 1,
   "id": "5b03810f-a036-45e2-b438-1da4ee09cddf",
   "metadata": {},
   "outputs": [
    {
     "name": "stdin",
     "output_type": "stream",
     "text": [
      "Enter the day number:  5\n"
     ]
    },
    {
     "name": "stdout",
     "output_type": "stream",
     "text": [
      "Total savings up to day 15\n"
     ]
    }
   ],
   "source": [
    "day_number = int(input(\"Enter the day number: \"))\n",
    "\n",
    "\n",
    "totalsavings = 0\n",
    "\n",
    "\n",
    "for day in range(1, day_number + 1):\n",
    "    \n",
    "    weeknumber = (day - 1) // 7 + 1\n",
    "    dayofweek = (day - 1) % 7 + 1\n",
    "    \n",
    "    savings = weeknumber + dayofweek - 1\n",
    "    \n",
    "    totalsavings += savings\n",
    "\n",
    "\n",
    "print(\"Total savings up to day\",totalsavings)"
   ]
  },
  {
   "cell_type": "code",
   "execution_count": null,
   "id": "dc1c6539-e5ec-49cf-ae05-af7db3a485c5",
   "metadata": {},
   "outputs": [],
   "source": []
  }
 ],
 "metadata": {
  "kernelspec": {
   "display_name": "Python 3 (ipykernel)",
   "language": "python",
   "name": "python3"
  },
  "language_info": {
   "codemirror_mode": {
    "name": "ipython",
    "version": 3
   },
   "file_extension": ".py",
   "mimetype": "text/x-python",
   "name": "python",
   "nbconvert_exporter": "python",
   "pygments_lexer": "ipython3",
   "version": "3.12.3"
  }
 },
 "nbformat": 4,
 "nbformat_minor": 5
}
