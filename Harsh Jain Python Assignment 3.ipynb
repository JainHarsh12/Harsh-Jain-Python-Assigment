{
 "cells": [
  {
   "cell_type": "code",
   "execution_count": 1,
   "id": "7b0c30df-49d9-4a5b-bbfe-94594eb3cf03",
   "metadata": {},
   "outputs": [
    {
     "name": "stdin",
     "output_type": "stream",
     "text": [
      "Enter the value of a:  20\n",
      "Enter the value of b:  30\n"
     ]
    },
    {
     "name": "stdout",
     "output_type": "stream",
     "text": [
      "swapped value of a: 30\n",
      "The swapped value of b: 20\n"
     ]
    }
   ],
   "source": [
    "a = int(input(\"Enter the value of a: \"))\n",
    "b = int(input(\"Enter the value of b: \"))\n",
    "\n",
    "\n",
    "a = a + b\n",
    "b = a - b\n",
    "a = a - b\n",
    "\n",
    "print(f\"swapped value of a: {a}\")\n",
    "print(f\"The swapped value of b: {b}\")"
   ]
  },
  {
   "cell_type": "code",
   "execution_count": 2,
   "id": "62f51c83-43b0-4410-9894-0cc765b8ae61",
   "metadata": {},
   "outputs": [
    {
     "name": "stdout",
     "output_type": "stream",
     "text": [
      "5 4 3 2 1 \n"
     ]
    }
   ],
   "source": [
    "a = 5\n",
    "while a >= 1:\n",
    "    print(a, end=' ')\n",
    "    a = a - 1\n",
    "print()\n"
   ]
  },
  {
   "cell_type": "code",
   "execution_count": 3,
   "id": "506915c0-8db5-412d-adde-84371e82be10",
   "metadata": {},
   "outputs": [
    {
     "name": "stdout",
     "output_type": "stream",
     "text": [
      "6\n"
     ]
    }
   ],
   "source": [
    "a = 1\n",
    "sum = 0\n",
    "while a <= 3:\n",
    "    sum += a\n",
    "    a = a + 1\n",
    "print(sum)\n"
   ]
  },
  {
   "cell_type": "code",
   "execution_count": 4,
   "id": "b7408c9a-8d73-4840-bee5-a88e66784933",
   "metadata": {},
   "outputs": [
    {
     "name": "stdin",
     "output_type": "stream",
     "text": [
      "Enter digit 1:  2\n",
      "Enter digit 2:  3\n",
      "Enter digit 3:  4\n"
     ]
    },
    {
     "name": "stdout",
     "output_type": "stream",
     "text": [
      "29\n"
     ]
    }
   ],
   "source": [
    "a = 1\n",
    "sum = 0\n",
    "\n",
    "while a <= 3:\n",
    "    digit = int(input(f\"Enter digit {a}: \"))\n",
    "    sum = sum + digit ** 2\n",
    "    a = a + 1\n",
    "\n",
    "print(sum)"
   ]
  },
  {
   "cell_type": "code",
   "execution_count": 5,
   "id": "ae8229d8-c686-45e6-a96c-495d8436dc4f",
   "metadata": {},
   "outputs": [
    {
     "name": "stdout",
     "output_type": "stream",
     "text": [
      "Armstrong number\n"
     ]
    }
   ],
   "source": [
    "num = 153\n",
    "rem = 0\n",
    "sum = 0\n",
    "temp = num\n",
    "\n",
    "while num > 0:\n",
    "    rem = num % 10\n",
    "    sum = sum + rem ** 3\n",
    "    num = num // 10\n",
    "\n",
    "if temp == sum:\n",
    "    print(\"Armstrong number\")\n",
    "else:\n",
    "    print(\"Not an Armstrong number\")"
   ]
  },
  {
   "cell_type": "code",
   "execution_count": null,
   "id": "68e36d55-0269-4707-9cc1-02e70dcd7fee",
   "metadata": {},
   "outputs": [],
   "source": []
  }
 ],
 "metadata": {
  "kernelspec": {
   "display_name": "Python 3 (ipykernel)",
   "language": "python",
   "name": "python3"
  },
  "language_info": {
   "codemirror_mode": {
    "name": "ipython",
    "version": 3
   },
   "file_extension": ".py",
   "mimetype": "text/x-python",
   "name": "python",
   "nbconvert_exporter": "python",
   "pygments_lexer": "ipython3",
   "version": "3.12.3"
  }
 },
 "nbformat": 4,
 "nbformat_minor": 5
}
