{
 "cells": [
  {
   "cell_type": "code",
   "execution_count": 1,
   "id": "825fa47e-ad23-459b-a6a5-ce55cdf4d5d8",
   "metadata": {},
   "outputs": [
    {
     "name": "stdout",
     "output_type": "stream",
     "text": [
      "  A \n",
      " A B \n",
      "A B C \n"
     ]
    }
   ],
   "source": [
    "rows = 3\n",
    "for i in range(rows):\n",
    "    print(\" \" * (rows - i - 1), end=\"\")\n",
    "    for j in range(i + 1):\n",
    "        print(chr(65 + j), end=\" \")\n",
    "    print()\n"
   ]
  },
  {
   "cell_type": "code",
   "execution_count": 3,
   "id": "efce85a5-059f-4c09-87af-c06984e16a95",
   "metadata": {},
   "outputs": [
    {
     "name": "stdout",
     "output_type": "stream",
     "text": [
      "  A\n",
      " ABC\n",
      "ABCDE\n"
     ]
    }
   ],
   "source": [
    "rows = 3\n",
    "for i in range(rows):\n",
    "    print(\" \" * (rows - i - 1), end=\"\")\n",
    "    \n",
    "    for j in range(2 * i + 1):\n",
    "        print(chr(65 + j), end=\"\")\n",
    "    print()  \n"
   ]
  },
  {
   "cell_type": "code",
   "execution_count": 5,
   "id": "1153b2b1-68ae-42d1-8da2-3641965e478a",
   "metadata": {},
   "outputs": [
    {
     "name": "stdout",
     "output_type": "stream",
     "text": [
      "*****\n",
      " ***\n",
      "  *\n"
     ]
    }
   ],
   "source": [
    " rows = 3\n",
    "for i in range(rows):\n",
    "    \n",
    "    print(\" \" * i, end=\"\")\n",
    "    \n",
    "    print(\"*\" * (2 * (rows - i) - 1))\n"
   ]
  },
  {
   "cell_type": "code",
   "execution_count": 6,
   "id": "b8ef8feb-76bb-407d-9a2e-d4289c88671a",
   "metadata": {},
   "outputs": [
    {
     "name": "stdout",
     "output_type": "stream",
     "text": [
      "  10 \n",
      " 11 11 \n",
      "12 12 12 \n"
     ]
    }
   ],
   "source": [
    "rows = 3\n",
    "starting_number = 10\n",
    "\n",
    "for i in range(rows):\n",
    "    \n",
    "    print(\" \" * (rows - i - 1), end=\"\")\n",
    "   \n",
    "    for j in range(i + 1):\n",
    "        print(starting_number + i, end=\" \")\n",
    "    print()  \n"
   ]
  },
  {
   "cell_type": "code",
   "execution_count": 8,
   "id": "84959e33-048a-4839-a408-4b3668fd16d2",
   "metadata": {},
   "outputs": [
    {
     "name": "stdout",
     "output_type": "stream",
     "text": [
      "*****\n",
      " ****\n",
      "  ***\n",
      "   **\n",
      "    *\n"
     ]
    }
   ],
   "source": [
    "rows = 5\n",
    "for i in range(rows):\n",
    "    print(\" \" * i, end=\"\")\n",
    "    print(\"*\" * (rows - i), end=\"\")\n",
    "    print()"
   ]
  },
  {
   "cell_type": "code",
   "execution_count": 9,
   "id": "2bee619c-9c67-4836-ad1d-bbfd4341bbde",
   "metadata": {},
   "outputs": [
    {
     "name": "stdin",
     "output_type": "stream",
     "text": [
      "Enter the name harsh\n"
     ]
    },
    {
     "name": "stdout",
     "output_type": "stream",
     "text": [
      " harsh\n"
     ]
    }
   ],
   "source": [
    " name = input(\"Enter the name\")\n",
    "\n",
    "print(\"\",name)\n"
   ]
  },
  {
   "cell_type": "code",
   "execution_count": 10,
   "id": "ee5debe1-640f-4565-89e3-a5a8dfe5f068",
   "metadata": {},
   "outputs": [
    {
     "name": "stdin",
     "output_type": "stream",
     "text": [
      "Number 1 =  2\n",
      "Number 2 =  5\n"
     ]
    },
    {
     "name": "stdout",
     "output_type": "stream",
     "text": [
      "Total 7\n",
      "positive number\n"
     ]
    }
   ],
   "source": [
    "num1 = int(input(\"Number 1 = \"))\n",
    "num2 = int(input(\"Number 2 = \"))\n",
    "\n",
    "num3 = num1 + num2\n",
    "print(\"Total\",num3)\n",
    "\n",
    "if num3>0:\n",
    "    print(\"positive number\")\n",
    "\n",
    "elif num3<0:\n",
    "    print(\"Negative number\")\n",
    "\n",
    "else :\n",
    "  print(\"0\")\n"
   ]
  },
  {
   "cell_type": "code",
   "execution_count": 11,
   "id": "69b7ff17-322f-4349-aa27-e50c32cce9a2",
   "metadata": {},
   "outputs": [
    {
     "name": "stdin",
     "output_type": "stream",
     "text": [
      "Enter the number:  42\n"
     ]
    },
    {
     "name": "stdout",
     "output_type": "stream",
     "text": [
      "Correct!\n"
     ]
    }
   ],
   "source": [
    "correct_number = 42\n",
    "\n",
    "while True:\n",
    "   \n",
    "    user_input = int(input(\"Enter the number: \"))\n",
    "\n",
    "    if user_input == correct_number:\n",
    "        print(\"Correct!\")\n",
    "        break\n",
    "    else:\n",
    "        print(\"Try again.\")\n"
   ]
  },
  {
   "cell_type": "code",
   "execution_count": 12,
   "id": "51bb4b83-f148-4456-a841-922648d4105f",
   "metadata": {},
   "outputs": [
    {
     "name": "stdin",
     "output_type": "stream",
     "text": [
      "Enter your first name:  harsh\n",
      "Enter your last name:  jain\n"
     ]
    },
    {
     "name": "stdout",
     "output_type": "stream",
     "text": [
      "Full name: harsh jain\n"
     ]
    }
   ],
   "source": [
    " firstname = input(\"Enter your first name: \")\n",
    "lastname = input(\"Enter your last name: \")\n",
    "\n",
    "wholename = firstname + \" \" + lastname\n",
    "\n",
    "print(\"Full name:\", wholename)\n"
   ]
  },
  {
   "cell_type": "code",
   "execution_count": 13,
   "id": "baaf7aa0-b86c-4a23-a8e0-be7f18346db7",
   "metadata": {},
   "outputs": [
    {
     "name": "stdin",
     "output_type": "stream",
     "text": [
      "Enter a string:  harsh\n"
     ]
    },
    {
     "name": "stdout",
     "output_type": "stream",
     "text": [
      "Toggled case string: HARSH\n"
     ]
    }
   ],
   "source": [
    " input_string = input(\"Enter a string: \")\n",
    "\n",
    "toggled_string = input_string.swapcase()\n",
    "\n",
    "print(\"Toggled case string:\", toggled_string)\n"
   ]
  },
  {
   "cell_type": "code",
   "execution_count": 14,
   "id": "eaa49750-823a-4968-89f8-3af8daffa0bb",
   "metadata": {},
   "outputs": [
    {
     "name": "stdout",
     "output_type": "stream",
     "text": [
      "Sum: 10\n",
      "Multiplication: 24\n"
     ]
    }
   ],
   "source": [
    "numbers = [1, 2, 3, 4]\n",
    "\n",
    "\n",
    "total_sum = 0\n",
    "total_multiplication = 1\n",
    "\n",
    "\n",
    "for number in numbers:\n",
    "    total_sum += number\n",
    "    total_multiplication *= number\n",
    "\n",
    "\n",
    "print(\"Sum:\",total_sum)           \n",
    "print(\"Multiplication:\",total_multiplication)\n"
   ]
  },
  {
   "cell_type": "code",
   "execution_count": 15,
   "id": "e97755b1-cc0e-49f8-b09a-41458e177f89",
   "metadata": {},
   "outputs": [
    {
     "name": "stdout",
     "output_type": "stream",
     "text": [
      "False\n"
     ]
    }
   ],
   "source": [
    "x = 'hello' \n",
    "a = ['hi', 'hello', 'hey']  \n",
    "\n",
    "ismember = False\n",
    "\n",
    "\n",
    "for item in a:\n",
    "    if item == x:\n",
    "        is_member = True\n",
    "        break\n",
    "\n",
    "\n",
    "print(ismember) \n"
   ]
  },
  {
   "cell_type": "code",
   "execution_count": 16,
   "id": "e017baab-9df8-49a0-a2a0-2dc49e938351",
   "metadata": {},
   "outputs": [
    {
     "name": "stdout",
     "output_type": "stream",
     "text": [
      "True\n"
     ]
    }
   ],
   "source": [
    "list1 = [1, 2, 3, 4, 5]\n",
    "list2 = [5, 6, 7, 8, 9]\n",
    "\n",
    "\n",
    "common_member = False\n",
    "\n",
    "\n",
    "for item1 in list1:\n",
    "    for item2 in list2:\n",
    "        if item1 == item2:\n",
    "            common_member = True\n",
    "            break\n",
    "    if common_member:\n",
    "        break\n",
    "\n",
    "\n",
    "print(common_member) \n"
   ]
  },
  {
   "cell_type": "code",
   "execution_count": 17,
   "id": "29c98d95-a55a-4bc6-8fad-331f3a7e0ee1",
   "metadata": {},
   "outputs": [
    {
     "name": "stdout",
     "output_type": "stream",
     "text": [
      "100m race: {'Mamta', 'Harsh', 'Krishnakanth', 'Harshita', 'Manish', 'Dashrat'}\n",
      "200m race: {'Naveen', 'Rohit', 'Nikhil', 'Himanshu', 'Rahul'}\n",
      "both races: set()\n",
      "one race: {'Mamta', 'Harsh', 'Krishnakanth', 'Naveen', 'Harshita', 'Rohit', 'Manish', 'Dashrat', 'Nikhil', 'Himanshu', 'Rahul'}\n"
     ]
    }
   ],
   "source": [
    "hundred_meters = ['Harsh', 'Krishnakanth', 'Manish', 'Dashrat', 'Harshita', 'Mamta']\n",
    "two_hundred_meters = ['Rahul', 'Nikhil', 'Rohit', 'Himanshu', 'Naveen']\n",
    "\n",
    "\n",
    "hundred_set = set(hundred_meters)\n",
    "two_hundred_set = set(two_hundred_meters)\n",
    "\n",
    "\n",
    "only_hundred = hundred_set - two_hundred_set\n",
    "print(\"100m race:\", only_hundred)\n",
    "\n",
    "\n",
    "only_two_hundred = two_hundred_set - hundred_set\n",
    "print(\"200m race:\", only_two_hundred)\n",
    "\n",
    "\n",
    "both_races = hundred_set & two_hundred_set\n",
    "print(\"both races:\", both_races)\n",
    "\n",
    "\n",
    "one_race = (hundred_set | two_hundred_set) - both_races\n",
    "print(\"one race:\", one_race)\n"
   ]
  },
  {
   "cell_type": "code",
   "execution_count": 18,
   "id": "97677e6f-4cda-46c2-8a0a-58008e0cb78d",
   "metadata": {},
   "outputs": [
    {
     "name": "stdout",
     "output_type": "stream",
     "text": [
      "Duplicate numbers: [8, 18, 3, 5]\n"
     ]
    }
   ],
   "source": [
    "numbers = [5, 8, 4, 18, 8, 55, 6, 8, 3, 18, 5, 3, 44]\n",
    "\n",
    "seen = set()\n",
    "duplicates = []\n",
    "\n",
    "for num in numbers:\n",
    "    if num in seen:\n",
    "        duplicates.append(num)\n",
    "    else:\n",
    "        seen.add(num)\n",
    "\n",
    "\n",
    "duplicates = list(set(duplicates))\n",
    "\n",
    "print(\"Duplicate numbers:\", duplicates)\n"
   ]
  },
  {
   "cell_type": "code",
   "execution_count": null,
   "id": "b65c780f-af07-4c48-b383-cd7be30f4257",
   "metadata": {},
   "outputs": [],
   "source": []
  }
 ],
 "metadata": {
  "kernelspec": {
   "display_name": "Python 3 (ipykernel)",
   "language": "python",
   "name": "python3"
  },
  "language_info": {
   "codemirror_mode": {
    "name": "ipython",
    "version": 3
   },
   "file_extension": ".py",
   "mimetype": "text/x-python",
   "name": "python",
   "nbconvert_exporter": "python",
   "pygments_lexer": "ipython3",
   "version": "3.12.3"
  }
 },
 "nbformat": 4,
 "nbformat_minor": 5
}
